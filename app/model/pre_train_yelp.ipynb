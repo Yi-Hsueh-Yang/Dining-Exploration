{
  "nbformat": 4,
  "nbformat_minor": 0,
  "metadata": {
    "colab": {
      "provenance": []
    },
    "kernelspec": {
      "name": "python3",
      "display_name": "Python 3"
    },
    "language_info": {
      "name": "python"
    }
  },
  "cells": [
    {
      "cell_type": "code",
      "source": [
        "import pandas as pd\n",
        "from sklearn.preprocessing import MultiLabelBinarizer\n",
        "\n",
        "import numpy as np\n",
        "import json\n",
        "\n",
        "import xgboost as xgb\n",
        "from sklearn.model_selection import train_test_split\n",
        "from sklearn.metrics import mean_squared_error"
      ],
      "metadata": {
        "id": "0TiXUAfRkqie"
      },
      "execution_count": 155,
      "outputs": []
    },
    {
      "cell_type": "code",
      "source": [
        "\n",
        "business_csv = \"/content/drive/MyDrive/ids_data/nv_business.csv\"\n",
        "checkin_csv = \"/content/drive/MyDrive/ids_data/nv_checkin.csv\"\n",
        "\n",
        "business_df = pd.read_csv(business_csv)\n",
        "checkin_df = pd.read_csv(checkin_csv)\n",
        "\n",
        "# cleaning business.csv\n",
        "business_df[\"city\"] = business_df[\"city\"].str.lower().str.strip().str.replace(',', '')\n",
        "city_mapping = {\n",
        "    'reno': 'reno',\n",
        "    'sparks': 'sparks',\n",
        "    'fernley': 'fernley',\n",
        "    'virginia city': 'virginia city',\n",
        "    'spanish springs': 'spanish springs',\n",
        "    'sun valley': 'sun valley',\n",
        "    'verdi': 'verdi',\n",
        "    'washoe valley': 'washoe valley',\n",
        "    'reno ap': 'reno',\n",
        "    'reno nevada': 'reno',\n",
        "    'vc highlands': 'vc highlands',\n",
        "    'cold springs': 'cold springs',\n",
        "    'nevada': 'reno',\n",
        "    'washoe': 'washoe',\n",
        "    'mount laurel': 'mount laurel',\n",
        "    'carson city': 'carson city',\n",
        "    'mccarran': 'mccarran',\n",
        "    'new washoe city': 'new washoe city',\n",
        "    'reno city': 'reno',\n",
        "    'stead': 'stead',\n",
        "    'south reno': 'reno',\n",
        "    'reno sparks': 'sparks'\n",
        "}\n",
        "\n",
        "business_df['city'] = business_df['city'].map(city_mapping)\n",
        "\n",
        "business_df[\"categories\"] = business_df[\"categories\"].str.lower()\n",
        "\n",
        "checkin_counts = checkin_df.groupby('business_id').size().reset_index(name='checkin_count')"
      ],
      "metadata": {
        "id": "IyCokzS3gmYY"
      },
      "execution_count": null,
      "outputs": []
    },
    {
      "cell_type": "code",
      "execution_count": null,
      "metadata": {
        "colab": {
          "base_uri": "https://localhost:8080/"
        },
        "id": "ABbom2uogT4D",
        "outputId": "baef3ad4-cc21-43e4-85f6-565171db4d6d"
      },
      "outputs": [
        {
          "output_type": "stream",
          "name": "stdout",
          "text": [
            "        postal_code     latitude    longitude        stars  review_count  \\\n",
            "count   6568.000000  6571.000000  6571.000000  6571.000000   6571.000000   \n",
            "mean   89482.012485    39.510522  -119.781366     3.700807     60.390808   \n",
            "std     1015.009297     0.048285     0.556086     0.950229    128.638930   \n",
            "min     8054.000000    39.301508  -120.026076     1.000000      5.000000   \n",
            "25%    89501.000000    39.484533  -119.811256     3.000000     10.000000   \n",
            "50%    89502.000000    39.519103  -119.788540     4.000000     22.000000   \n",
            "75%    89511.000000    39.532832  -119.758821     4.500000     56.000000   \n",
            "max    98501.000000    39.980331   -74.858983     5.000000   3345.000000   \n",
            "\n",
            "           is_open  checkin_count  \n",
            "count  6571.000000    6571.000000  \n",
            "mean      0.800030     131.598082  \n",
            "std       0.400008     419.942677  \n",
            "min       0.000000       1.000000  \n",
            "25%       1.000000       6.000000  \n",
            "50%       1.000000      23.000000  \n",
            "75%       1.000000      92.000000  \n",
            "max       1.000000   13420.000000  \n",
            "Index(['business_id', 'name', 'address', 'city', 'state', 'postal_code',\n",
            "       'latitude', 'longitude', 'stars', 'review_count', 'is_open',\n",
            "       'attributes', 'categories', 'hours', 'checkin_count'],\n",
            "      dtype='object')\n",
            "6571\n",
            "6570\n",
            "       checkin_count\n",
            "count    6570.000000\n",
            "mean      131.608371\n",
            "std       419.973812\n",
            "min         1.000000\n",
            "25%         6.000000\n",
            "50%        23.000000\n",
            "75%        92.000000\n",
            "max     13420.000000\n"
          ]
        }
      ],
      "source": [
        "# merge count with business.csv\n",
        "merged_df = pd.merge(business_df, checkin_counts, on='business_id')\n",
        "print(merged_df.describe())\n",
        "print(merged_df.columns)\n",
        "print(len(merged_df))\n",
        "\n",
        "merged_df = merged_df.dropna(subset=['city', 'categories', 'hours'])\n",
        "print(len(merged_df))\n",
        "\n",
        "# drop unnecessary columns\n",
        "merged_df = merged_df[['city', 'categories', 'hours', 'checkin_count']]\n",
        "print(merged_df.describe())\n"
      ]
    },
    {
      "cell_type": "code",
      "source": [
        "# preview of one-hot encodings\n",
        "cities_list = merged_df['city'].unique()\n",
        "categories_list = merged_df['categories'].str.split(',').apply(lambda x: [item.strip() for item in x]).explode().unique()\n",
        "\n",
        "print(len(cities_list))\n",
        "print(len(categories_list))\n",
        "print(cities_list)"
      ],
      "metadata": {
        "colab": {
          "base_uri": "https://localhost:8080/"
        },
        "id": "cj2DWZxji5M7",
        "outputId": "e44e4012-6e9e-4ce9-d16d-acbf77a6968f"
      },
      "execution_count": null,
      "outputs": [
        {
          "output_type": "stream",
          "name": "stdout",
          "text": [
            "16\n",
            "995\n",
            "['reno' 'fernley' 'sparks' 'virginia city' 'verdi' 'spanish springs'\n",
            " 'sun valley' 'washoe valley' 'vc highlands' 'cold springs' 'washoe'\n",
            " 'mount laurel' 'carson city' 'mccarran' 'new washoe city' 'stead']\n"
          ]
        }
      ]
    },
    {
      "cell_type": "code",
      "source": [
        "# create one-hot encoding for categories\n",
        "merged_df['categories_lst'] = merged_df['categories'].apply(lambda line: [c.strip() for c in line.split(',')])\n",
        "\n",
        "mlb = MultiLabelBinarizer()\n",
        "categories_encoded = mlb.fit_transform(merged_df['categories_lst'])\n",
        "\n",
        "unique, counts = np.unique(categories_encoded, return_counts=True)\n",
        "print(dict(zip(unique, counts)))\n",
        "print(categories_encoded.shape)\n",
        "\n",
        "categories_mlb = mlb.classes_\n",
        "\n",
        "\n",
        "# combine categories encoding with merged_df\n",
        "categories_df = pd.DataFrame(categories_encoded, columns=mlb.classes_, index=merged_df.index)\n",
        "merged_df = pd.concat([merged_df, categories_df], axis=1)\n",
        "merged_df[mlb.classes_] = merged_df[mlb.classes_].fillna(0)\n",
        "\n",
        "print(merged_df.columns)"
      ],
      "metadata": {
        "colab": {
          "base_uri": "https://localhost:8080/"
        },
        "id": "o-qwZ8fikI0z",
        "outputId": "675196ff-d83a-4598-8c6f-df0a1c7209d5"
      },
      "execution_count": null,
      "outputs": [
        {
          "output_type": "stream",
          "name": "stdout",
          "text": [
            "{0: 6507183, 1: 29967}\n",
            "(6570, 995)\n",
            "Index(['city', 'categories', 'hours', 'checkin_count', 'categories_lst',\n",
            "       '& probates', '3d printing', 'acai bowls', 'accessories', 'accountants',\n",
            "       ...\n",
            "       'wine bars', 'wine tasting classes', 'wine tasting room', 'wine tours',\n",
            "       'wineries', 'women's clothing', 'wraps', 'yelp events', 'yoga', 'zoos'],\n",
            "      dtype='object', length=1000)\n"
          ]
        }
      ]
    },
    {
      "cell_type": "code",
      "source": [
        "# create one-hot encoding for cities\n",
        "cities_encoded = pd.get_dummies(merged_df['city'])\n",
        "merged_df = pd.concat([merged_df, cities_encoded], axis=1)\n",
        "print(merged_df.columns)"
      ],
      "metadata": {
        "colab": {
          "base_uri": "https://localhost:8080/"
        },
        "id": "xOPWrecyoAYs",
        "outputId": "f76eab12-398d-43d6-9634-78d31b5701ee"
      },
      "execution_count": null,
      "outputs": [
        {
          "output_type": "stream",
          "name": "stdout",
          "text": [
            "Index(['city', 'categories', 'hours', 'checkin_count', 'categories_lst',\n",
            "       '& probates', '3d printing', 'acai bowls', 'accessories', 'accountants',\n",
            "       ...\n",
            "       'reno', 'spanish springs', 'sparks', 'stead', 'sun valley',\n",
            "       'vc highlands', 'verdi', 'virginia city', 'washoe', 'washoe valley'],\n",
            "      dtype='object', length=1016)\n"
          ]
        }
      ]
    },
    {
      "cell_type": "code",
      "source": [
        "# encode open hours by total #hours per week\n",
        "\n",
        "# parse format: a:b-c:d\n",
        "def parse_hours(hours):\n",
        "    if '-' not in hours:\n",
        "        return 0\n",
        "    start, end = hours.split('-')\n",
        "    start_hour, start_min = map(int, start.split(':'))\n",
        "    end_hour, end_min = map(int, end.split(':'))\n",
        "    # handle cases like 17:0-3:0\n",
        "    if end_hour < start_hour:\n",
        "        end_hour += 24\n",
        "    return (end_hour - start_hour) + (end_min - start_min) / 60\n",
        "\n",
        "def parse_weekly_open_hours(open_hours):\n",
        "    if open_hours == \"Unknown\":\n",
        "        return 0\n",
        "    try:\n",
        "        time_dict = json.loads(open_hours.replace(\"'\", '\"'))\n",
        "        return sum(parse_hours(time_dict[day]) for day in time_dict)\n",
        "    except json.JSONDecodeError:\n",
        "        return 0\n",
        "\n",
        "merged_df['total_hours_week'] = merged_df['hours'].apply(parse_weekly_open_hours)\n",
        "print(merged_df['total_hours_week'].describe())\n",
        "print(len(merged_df[merged_df['total_hours_week'] == 0]))\n"
      ],
      "metadata": {
        "colab": {
          "base_uri": "https://localhost:8080/"
        },
        "id": "kDZ50j_MqUaM",
        "outputId": "f5d4de75-ed61-442c-b5f8-f63ad5e7f7b1"
      },
      "execution_count": null,
      "outputs": [
        {
          "output_type": "stream",
          "name": "stdout",
          "text": [
            "count    6570.000000\n",
            "mean       44.395797\n",
            "std        30.359341\n",
            "min         0.000000\n",
            "25%        24.625000\n",
            "50%        45.000000\n",
            "75%        63.000000\n",
            "max       167.883333\n",
            "Name: total_hours_week, dtype: float64\n",
            "1358\n"
          ]
        },
        {
          "output_type": "stream",
          "name": "stderr",
          "text": [
            "<ipython-input-149-8ceb1f4caab7>:24: PerformanceWarning: DataFrame is highly fragmented.  This is usually the result of calling `frame.insert` many times, which has poor performance.  Consider joining all columns at once using pd.concat(axis=1) instead. To get a de-fragmented frame, use `newframe = frame.copy()`\n",
            "  merged_df['total_hours_week'] = merged_df['hours'].apply(parse_weekly_open_hours)\n"
          ]
        }
      ]
    },
    {
      "cell_type": "code",
      "source": [
        "# It is observed that a significant portion has unknown open hours,\n",
        "# hence we will do an estimate with mean of other businesses.\n",
        "\n",
        "mean_hours = merged_df[merged_df['total_hours_week'] > 0]['total_hours_week'].mean()\n",
        "print(mean_hours)\n",
        "merged_df['total_hours_week'] = merged_df['total_hours_week'].replace(0.0, mean_hours)\n",
        "print(len(merged_df[merged_df['total_hours_week'] <= 0]))\n",
        "print(merged_df['total_hours_week'].describe())"
      ],
      "metadata": {
        "colab": {
          "base_uri": "https://localhost:8080/"
        },
        "id": "qmRDOaObusrv",
        "outputId": "fa146b70-7d92-4a26-a9db-616a16ff1359"
      },
      "execution_count": null,
      "outputs": [
        {
          "output_type": "stream",
          "name": "stdout",
          "text": [
            "55.96323548222051\n",
            "0\n",
            "count    6570.000000\n",
            "mean       55.963235\n",
            "std        20.200637\n",
            "min         0.250000\n",
            "25%        44.000000\n",
            "50%        55.963235\n",
            "75%        63.000000\n",
            "max       167.883333\n",
            "Name: total_hours_week, dtype: float64\n"
          ]
        }
      ]
    },
    {
      "cell_type": "code",
      "source": [
        "# prepare training data\n",
        "print(merged_df.columns)\n",
        "train_df = merged_df.drop(columns=['city', 'categories', 'hours', 'categories_lst'])\n",
        "print(train_df.columns)"
      ],
      "metadata": {
        "colab": {
          "base_uri": "https://localhost:8080/"
        },
        "id": "o-ljBEyOxf3c",
        "outputId": "b7c5b60c-b4ef-47c1-c45d-63522fe904e6"
      },
      "execution_count": null,
      "outputs": [
        {
          "output_type": "stream",
          "name": "stdout",
          "text": [
            "Index(['city', 'categories', 'hours', 'checkin_count', 'categories_lst',\n",
            "       '& probates', '3d printing', 'acai bowls', 'accessories', 'accountants',\n",
            "       ...\n",
            "       'spanish springs', 'sparks', 'stead', 'sun valley', 'vc highlands',\n",
            "       'verdi', 'virginia city', 'washoe', 'washoe valley',\n",
            "       'total_hours_week'],\n",
            "      dtype='object', length=1017)\n",
            "Index(['checkin_count', '& probates', '3d printing', 'acai bowls',\n",
            "       'accessories', 'accountants', 'acne treatment', 'active life',\n",
            "       'acupuncture', 'addiction medicine',\n",
            "       ...\n",
            "       'spanish springs', 'sparks', 'stead', 'sun valley', 'vc highlands',\n",
            "       'verdi', 'virginia city', 'washoe', 'washoe valley',\n",
            "       'total_hours_week'],\n",
            "      dtype='object', length=1013)\n"
          ]
        }
      ]
    },
    {
      "cell_type": "code",
      "source": [
        "# train\n",
        "X = train_df.drop(['checkin_count'], axis=1)\n",
        "y = train_df['checkin_count']\n",
        "print(X.columns)\n",
        "\n",
        "X_train, X_test, y_train, y_test = train_test_split(X, y, test_size=0.2, random_state=42)\n",
        "\n",
        "model = xgb.XGBRegressor(objective='reg:squarederror', colsample_bytree=0.3, learning_rate=0.1,\n",
        "                         max_depth=5, alpha=10, n_estimators=100)\n",
        "\n",
        "y_train_transformed = np.log(y_train + 1)\n",
        "model.fit(X_train, y_train_transformed)\n",
        "model.save_model('regressor_exp.json')\n",
        "\n",
        "preds = np.exp(model.predict(X_test)) - 1\n",
        "rmse = mean_squared_error(y_test, preds, squared=False)\n",
        "print(f\"RMSE: {rmse}\")"
      ],
      "metadata": {
        "colab": {
          "base_uri": "https://localhost:8080/"
        },
        "id": "zkZiOLgKzpym",
        "outputId": "9880a82e-8076-448e-d09d-b0e5d9994dc4"
      },
      "execution_count": null,
      "outputs": [
        {
          "output_type": "stream",
          "name": "stdout",
          "text": [
            "Index(['& probates', '3d printing', 'acai bowls', 'accessories', 'accountants',\n",
            "       'acne treatment', 'active life', 'acupuncture', 'addiction medicine',\n",
            "       'adult',\n",
            "       ...\n",
            "       'spanish springs', 'sparks', 'stead', 'sun valley', 'vc highlands',\n",
            "       'verdi', 'virginia city', 'washoe', 'washoe valley',\n",
            "       'total_hours_week'],\n",
            "      dtype='object', length=1012)\n",
            "RMSE: 252.44399835929175\n"
          ]
        }
      ]
    },
    {
      "cell_type": "code",
      "source": [
        "# Test prediction\n",
        "# Feature vector: Category(995) + City(16) + Open hours(1)\n",
        "\n",
        "ctgr_selection = [2, 4, 11]\n",
        "city_selection = 12\n",
        "\n",
        "cities_list_real = cities_encoded.columns.tolist()\n",
        "# open_ctgr = categories_mlb[ctgr_selection]\n",
        "open_ctgr = ['food trucks']\n",
        "# open_city = cities_list_real[city_selection]\n",
        "open_city = 'reno'\n",
        "print(open_ctgr)\n",
        "print(open_city)\n",
        "\n",
        "categories_mlb_list = categories_mlb.tolist()\n",
        "\n",
        "with open('categories.json', 'w') as f:\n",
        "    json.dump(categories_mlb_list, f)\n",
        "\n",
        "with open('cities.json', 'w') as f:\n",
        "    json.dump(cities_list_real, f)\n",
        "\n",
        "def get_feature_vector(open_ctgr, open_city, open_hours):\n",
        "    vec = np.zeros(1012)\n",
        "    one_indices = [categories_mlb_list.index(c) for c in open_ctgr]\n",
        "\n",
        "    city_idx = cities_list_real.index(open_city)\n",
        "    print(city_idx)\n",
        "    one_indices.append(city_idx + 995)\n",
        "    vec[one_indices] = 1\n",
        "    vec[-1] = open_hours\n",
        "    return vec.reshape(1, -1)\n",
        "\n",
        "vec = get_feature_vector(open_ctgr, open_city, 55)\n",
        "print(vec)\n",
        "print(vec.shape)\n",
        "\n",
        "pred = np.exp(model.predict(vec)) - 1\n",
        "print(pred)"
      ],
      "metadata": {
        "colab": {
          "base_uri": "https://localhost:8080/"
        },
        "id": "XQpt1WOv1gYY",
        "outputId": "5e0767c8-f4dc-4391-ddba-56dd14070950"
      },
      "execution_count": null,
      "outputs": [
        {
          "output_type": "stream",
          "name": "stdout",
          "text": [
            "['food trucks']\n",
            "reno\n",
            "6\n",
            "[[ 0.  0.  0. ...  0.  0. 55.]]\n",
            "(1, 1012)\n",
            "[8.90114]\n"
          ]
        }
      ]
    }
  ]
}